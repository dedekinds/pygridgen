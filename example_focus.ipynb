{
 "cells": [
  {
   "cell_type": "code",
   "execution_count": null,
   "metadata": {
    "collapsed": true
   },
   "outputs": [],
   "source": [
    "import pygridgen"
   ]
  },
  {
   "cell_type": "code",
   "execution_count": null,
   "metadata": {
    "collapsed": true
   },
   "outputs": [],
   "source": [
    "import matplotlib.pyplot as plt\n",
    "import pygridgen\n",
    "%matplotlib inline\n",
    "x = [0, 1, 2, 1, 0]\n",
    "y = [0, 0, 1, 2, 2]\n",
    "beta = [1, 1, 0, 1, 1]\n",
    "\n",
    "grid = pygridgen.grid.Gridgen(x, y, beta, shape=(10, 5))\n",
    "\n",
    "fig, ax = plt.subplots()\n",
    "ax.plot(x, y, 'k-')\n",
    "ax.plot(grid.x, grid.y, 'b.')\n",
    "plt.show()"
   ]
  },
  {
   "cell_type": "code",
   "execution_count": null,
   "metadata": {
    "collapsed": true
   },
   "outputs": [],
   "source": [
    "x = [0, 1, 2, 1, 0]\n",
    "y = [0, 0, 1, 2, 2]\n",
    "beta = [1, 1, 0, 1, 1]\n",
    "\n",
    "focus = pygridgen.grid.Focus()\n",
    "focus.add_focus_x(xo=0.5, factor=3, Rx=0.2)\n",
    "focus.add_focus_y(yo=0.75, factor=5, Ry=0.1)\n",
    "grid = pygridgen.grid.Gridgen(x, y, beta, shape=(20, 20), focus=focus)\n",
    "\n",
    "fig, ax = plt.subplots()\n",
    "ax.plot(x, y, 'k-')\n",
    "ax.plot(grid.x, grid.y, 'b.')\n",
    "plt.show()"
   ]
  },
  {
   "cell_type": "code",
   "execution_count": 12,
   "metadata": {},
   "outputs": [
    {
     "name": "stdout",
     "output_type": "stream",
     "text": [
      "[[0.   0.25 0.5  0.75 1.  ]\n",
      " [0.   0.25 0.5  0.75 1.  ]\n",
      " [0.   0.25 0.5  0.75 1.  ]\n",
      " [0.   0.25 0.5  0.75 1.  ]\n",
      " [0.   0.25 0.5  0.75 1.  ]]\n",
      "new\n",
      "[[0.         0.28571429 0.57142857 0.71428571 1.        ]\n",
      " [0.         0.28571429 0.57142857 0.71428571 1.        ]\n",
      " [0.         0.28571429 0.57142857 0.71428571 1.        ]\n",
      " [0.         0.28571429 0.57142857 0.71428571 1.        ]\n",
      " [0.         0.28571429 0.57142857 0.71428571 1.        ]]\n",
      "[[0.   0.   0.   0.   0.  ]\n",
      " [0.25 0.25 0.25 0.25 0.25]\n",
      " [0.5  0.5  0.5  0.5  0.5 ]\n",
      " [0.75 0.75 0.75 0.75 0.75]\n",
      " [1.   1.   1.   1.   1.  ]]\n",
      "new\n",
      "[[0.         0.         0.         0.         0.        ]\n",
      " [0.28571429 0.28571429 0.28571429 0.28571429 0.28571429]\n",
      " [0.57142857 0.57142857 0.57142857 0.57142857 0.57142857]\n",
      " [0.71428571 0.71428571 0.71428571 0.71428571 0.71428571]\n",
      " [1.         1.         1.         1.         1.        ]]\n"
     ]
    },
    {
     "data": {
      "image/png": "[encoded data removed]",
      "text/plain": [
       "<Figure size 432x288 with 1 Axes>"
      ]
     },
     "metadata": {
      "needs_background": "light"
     },
     "output_type": "display_data"
    }
   ],
   "source": [
    "import matplotlib.pyplot as plt\n",
    "import pygridgen\n",
    "%matplotlib inline\n",
    "x = [0, 1, 2, 1, 0]\n",
    "y = [0, 0, 1, 2, 2]\n",
    "beta = [1, 1, 0, 1, 1]\n",
    "focus = pygridgen.Focus()\n",
    "focus.add_focus(0.7 , axis ='x',factor=2.0,extent=0.20,debug=[1,1,0.5,1])\n",
    "focus.add_focus(0.2 , axis ='y',factor=2.0,extent=0.20,debug=[1,1,0.5,1])\n",
    "\n",
    "grid = pygridgen.grid.Gridgen(x, y, beta, shape=(5,5), focus=focus)\n",
    "\n",
    "fig, ax = plt.subplots()\n",
    "ax.plot(x, y, 'k-')\n",
    "ax.plot(grid.x, grid.y, 'b.')\n",
    "plt.show()"
   ]
  },
  {
   "cell_type": "code",
   "execution_count": 8,
   "metadata": {},
   "outputs": [
    {
     "data": {
      "image/png": "[encoded data removed]",
      "text/plain": [
       "<Figure size 432x288 with 1 Axes>"
      ]
     },
     "metadata": {
      "needs_background": "light"
     },
     "output_type": "display_data"
    }
   ],
   "source": [
    "import matplotlib.pyplot as plt\n",
    "import pygridgen\n",
    "%matplotlib inline\n",
    "x = [0, 1, 2, 1, 0]\n",
    "y = [0, 0, 1, 2, 2]\n",
    "beta = [1, 1, 0, 1, 1]\n",
    "focus = pygridgen.Focus()\n",
    "focus.add_focus(0.7 , axis ='x',factor=2.0,extent=0.20)\n",
    "focus.add_focus(0.2 , axis ='y',factor=2.0,extent=0.20)\n",
    "\n",
    "grid = pygridgen.grid.Gridgen(x, y, beta, shape=(5,5), focus=focus)\n",
    "\n",
    "fig, ax = plt.subplots()\n",
    "ax.plot(x, y, 'k-')\n",
    "ax.plot(grid.x, grid.y, 'b.')\n",
    "plt.show()"
   ]
  },
  {
   "cell_type": "code",
   "execution_count": null,
   "metadata": {
    "collapsed": true
   },
   "outputs": [],
   "source": []
  }
 ],
 "metadata": {
  "kernelspec": {
   "display_name": "MESH",
   "language": "python",
   "name": "mesh"
  },
  "language_info": {
   "codemirror_mode": {
    "name": "ipython",
    "version": 3
   },
   "file_extension": ".py",
   "mimetype": "text/x-python",
   "name": "python",
   "nbconvert_exporter": "python",
   "pygments_lexer": "ipython3",
   "version": "3.6.8"
  }
 },
 "nbformat": 4,
 "nbformat_minor": 2
}
